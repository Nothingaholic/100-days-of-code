{
 "cells": [
  {
   "cell_type": "markdown",
   "metadata": {},
   "source": [
    "# Question 6.4.4 \n",
    "## An intro to Mathamatical Statistics and its application\n",
    "To plot the power curve in python: \\\n",
    "    - Null hypothesis: $\\mu$ = 60 \\\n",
    "    - Alternative hypothesis: $\\mu$ ≠ 60\n",
    "    \n",
    "Given:\n",
    "- Sample size n = 16\n",
    "- Significant level $\\alpha$ = 0.05\n",
    "- std = 4\n",
    "- Only compute the value of β for μ = 56, 57, 58, . . . , 63, 64 and plot the resulting curve (β as a function of μ).\n"
   ]
  },
  {
   "cell_type": "code",
   "execution_count": 88,
   "metadata": {},
   "outputs": [],
   "source": [
    "# Reject region \n",
    "def reject_region(mu, z, std, n):\n",
    "    left_side = mu - z* std / (n**0.5) \n",
    "    right_side = mu +  z* std / (n**0.5) \n",
    "    return left_side, right_side"
   ]
  },
  {
   "cell_type": "code",
   "execution_count": 90,
   "metadata": {},
   "outputs": [
    {
     "name": "stdout",
     "output_type": "stream",
     "text": [
      "Reject the null hypothesis if x_bar <= 58.04 or x_bar >= 61.96\n"
     ]
    }
   ],
   "source": [
    "left_side, right_side = reject_region(60, 1.96, 4, 16)\n",
    "print('Reject the null hypothesis if x_bar <=', left_side, 'or x_bar >=', right_side)"
   ]
  },
  {
   "cell_type": "code",
   "execution_count": 93,
   "metadata": {},
   "outputs": [],
   "source": [
    "import scipy.stats\n",
    "import numpy as np\n",
    "import pandas as pd\n",
    "def find_power (left_side, right_side):\n",
    "    z1, z2 = [], []\n",
    "    for mu in range(56, 65):\n",
    "        l = left_side - mu\n",
    "        r = right_side - mu\n",
    "        z1.append(l)\n",
    "        z2.append(r)\n",
    "        p1 = 1- scipy.stats.norm.sf(z1)\n",
    "        p2 = 1- scipy.stats.norm.sf(z2)\n",
    "        beta = p2 - p1\n",
    "    return 1 - beta\n"
   ]
  },
  {
   "cell_type": "code",
   "execution_count": 95,
   "metadata": {},
   "outputs": [
    {
     "data": {
      "text/html": [
       "<div>\n",
       "<style scoped>\n",
       "    .dataframe tbody tr th:only-of-type {\n",
       "        vertical-align: middle;\n",
       "    }\n",
       "\n",
       "    .dataframe tbody tr th {\n",
       "        vertical-align: top;\n",
       "    }\n",
       "\n",
       "    .dataframe thead th {\n",
       "        text-align: right;\n",
       "    }\n",
       "</style>\n",
       "<table border=\"1\" class=\"dataframe\">\n",
       "  <thead>\n",
       "    <tr style=\"text-align: right;\">\n",
       "      <th></th>\n",
       "      <th>Number of Observation</th>\n",
       "      <th>z1</th>\n",
       "      <th>z2</th>\n",
       "      <th>p1</th>\n",
       "      <th>p2</th>\n",
       "      <th>Power</th>\n",
       "    </tr>\n",
       "  </thead>\n",
       "  <tbody>\n",
       "    <tr>\n",
       "      <th>0</th>\n",
       "      <td>56</td>\n",
       "      <td>2.04</td>\n",
       "      <td>5.96</td>\n",
       "      <td>9.793248e-01</td>\n",
       "      <td>1.000000</td>\n",
       "      <td>0.979325</td>\n",
       "    </tr>\n",
       "    <tr>\n",
       "      <th>1</th>\n",
       "      <td>57</td>\n",
       "      <td>1.04</td>\n",
       "      <td>4.96</td>\n",
       "      <td>8.508300e-01</td>\n",
       "      <td>1.000000</td>\n",
       "      <td>0.850830</td>\n",
       "    </tr>\n",
       "    <tr>\n",
       "      <th>2</th>\n",
       "      <td>58</td>\n",
       "      <td>0.04</td>\n",
       "      <td>3.96</td>\n",
       "      <td>5.159534e-01</td>\n",
       "      <td>0.999963</td>\n",
       "      <td>0.515991</td>\n",
       "    </tr>\n",
       "    <tr>\n",
       "      <th>3</th>\n",
       "      <td>59</td>\n",
       "      <td>-0.96</td>\n",
       "      <td>2.96</td>\n",
       "      <td>1.685276e-01</td>\n",
       "      <td>0.998462</td>\n",
       "      <td>0.170066</td>\n",
       "    </tr>\n",
       "    <tr>\n",
       "      <th>4</th>\n",
       "      <td>60</td>\n",
       "      <td>-1.96</td>\n",
       "      <td>1.96</td>\n",
       "      <td>2.499790e-02</td>\n",
       "      <td>0.975002</td>\n",
       "      <td>0.049996</td>\n",
       "    </tr>\n",
       "    <tr>\n",
       "      <th>5</th>\n",
       "      <td>61</td>\n",
       "      <td>-2.96</td>\n",
       "      <td>0.96</td>\n",
       "      <td>1.538195e-03</td>\n",
       "      <td>0.831472</td>\n",
       "      <td>0.170066</td>\n",
       "    </tr>\n",
       "    <tr>\n",
       "      <th>6</th>\n",
       "      <td>62</td>\n",
       "      <td>-3.96</td>\n",
       "      <td>-0.04</td>\n",
       "      <td>3.747488e-05</td>\n",
       "      <td>0.484047</td>\n",
       "      <td>0.515991</td>\n",
       "    </tr>\n",
       "    <tr>\n",
       "      <th>7</th>\n",
       "      <td>63</td>\n",
       "      <td>-4.96</td>\n",
       "      <td>-1.04</td>\n",
       "      <td>3.524659e-07</td>\n",
       "      <td>0.149170</td>\n",
       "      <td>0.850830</td>\n",
       "    </tr>\n",
       "    <tr>\n",
       "      <th>8</th>\n",
       "      <td>64</td>\n",
       "      <td>-5.96</td>\n",
       "      <td>-2.04</td>\n",
       "      <td>1.261190e-09</td>\n",
       "      <td>0.020675</td>\n",
       "      <td>0.979325</td>\n",
       "    </tr>\n",
       "  </tbody>\n",
       "</table>\n",
       "</div>"
      ],
      "text/plain": [
       "   Number of Observation    z1    z2            p1        p2     Power\n",
       "0                     56  2.04  5.96  9.793248e-01  1.000000  0.979325\n",
       "1                     57  1.04  4.96  8.508300e-01  1.000000  0.850830\n",
       "2                     58  0.04  3.96  5.159534e-01  0.999963  0.515991\n",
       "3                     59 -0.96  2.96  1.685276e-01  0.998462  0.170066\n",
       "4                     60 -1.96  1.96  2.499790e-02  0.975002  0.049996\n",
       "5                     61 -2.96  0.96  1.538195e-03  0.831472  0.170066\n",
       "6                     62 -3.96 -0.04  3.747488e-05  0.484047  0.515991\n",
       "7                     63 -4.96 -1.04  3.524659e-07  0.149170  0.850830\n",
       "8                     64 -5.96 -2.04  1.261190e-09  0.020675  0.979325"
      ]
     },
     "execution_count": 95,
     "metadata": {},
     "output_type": "execute_result"
    }
   ],
   "source": [
    "data = {'Number of Observation':np.arange(56,65),\n",
    "        'z1': z1,\n",
    "        'z2': z2,\n",
    "        'p1': p1,\n",
    "        'p2': p2,\n",
    "        'Power': find_power(left_side, right_side)}\n",
    " \n",
    "# Create DataFrame\n",
    "df = pd.DataFrame(data)\n",
    "df.set_index('Number of Observation')\n",
    "df"
   ]
  },
  {
   "cell_type": "code",
   "execution_count": 97,
   "metadata": {},
   "outputs": [
    {
     "data": {
      "image/png": "[encoded data removed]",
      "text/plain": [
       "<Figure size 640x480 with 1 Axes>"
      ]
     },
     "metadata": {},
     "output_type": "display_data"
    }
   ],
   "source": [
    "plt.plot(df['Power'], linestyle='solid')\n",
    "plt.title('Power Curve')\n",
    "plt.style.use('default')\n",
    "plt.xticks(range(0,len(df['Number of Observation'])), df['Number of Observation'])\n",
    "plt.show()"
   ]
  },
  {
   "cell_type": "code",
   "execution_count": null,
   "metadata": {},
   "outputs": [],
   "source": []
  }
 ],
 "metadata": {
  "kernelspec": {
   "display_name": "Python 3",
   "language": "python",
   "name": "python3"
  },
  "language_info": {
   "codemirror_mode": {
    "name": "ipython",
    "version": 3
   },
   "file_extension": ".py",
   "mimetype": "text/x-python",
   "name": "python",
   "nbconvert_exporter": "python",
   "pygments_lexer": "ipython3",
   "version": "3.8.0"
  }
 },
 "nbformat": 4,
 "nbformat_minor": 4
}
