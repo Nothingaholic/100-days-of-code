{
 "cells": [
  {
   "cell_type": "code",
   "execution_count": 1,
   "metadata": {},
   "outputs": [],
   "source": [
    "import pandas as pd\n",
    "import numpy as np\n",
    "import matplotlib.pyplot as plt"
   ]
  },
  {
   "cell_type": "markdown",
   "metadata": {},
   "source": [
    "# 11.2.2\n",
    "- Simple linear model"
   ]
  },
  {
   "cell_type": "code",
   "execution_count": 2,
   "metadata": {},
   "outputs": [
    {
     "data": {
      "text/html": [
       "<div>\n",
       "<style scoped>\n",
       "    .dataframe tbody tr th:only-of-type {\n",
       "        vertical-align: middle;\n",
       "    }\n",
       "\n",
       "    .dataframe tbody tr th {\n",
       "        vertical-align: top;\n",
       "    }\n",
       "\n",
       "    .dataframe thead th {\n",
       "        text-align: right;\n",
       "    }\n",
       "</style>\n",
       "<table border=\"1\" class=\"dataframe\">\n",
       "  <thead>\n",
       "    <tr style=\"text-align: right;\">\n",
       "      <th></th>\n",
       "      <th>year</th>\n",
       "      <th>proof</th>\n",
       "    </tr>\n",
       "  </thead>\n",
       "  <tbody>\n",
       "    <tr>\n",
       "      <th>0</th>\n",
       "      <td>0.0</td>\n",
       "      <td>104.6</td>\n",
       "    </tr>\n",
       "    <tr>\n",
       "      <th>1</th>\n",
       "      <td>0.5</td>\n",
       "      <td>104.1</td>\n",
       "    </tr>\n",
       "    <tr>\n",
       "      <th>2</th>\n",
       "      <td>1.0</td>\n",
       "      <td>104.4</td>\n",
       "    </tr>\n",
       "    <tr>\n",
       "      <th>3</th>\n",
       "      <td>2.0</td>\n",
       "      <td>105.0</td>\n",
       "    </tr>\n",
       "    <tr>\n",
       "      <th>4</th>\n",
       "      <td>3.0</td>\n",
       "      <td>106.0</td>\n",
       "    </tr>\n",
       "    <tr>\n",
       "      <th>5</th>\n",
       "      <td>4.0</td>\n",
       "      <td>106.8</td>\n",
       "    </tr>\n",
       "    <tr>\n",
       "      <th>6</th>\n",
       "      <td>5.0</td>\n",
       "      <td>107.7</td>\n",
       "    </tr>\n",
       "    <tr>\n",
       "      <th>7</th>\n",
       "      <td>6.0</td>\n",
       "      <td>108.7</td>\n",
       "    </tr>\n",
       "    <tr>\n",
       "      <th>8</th>\n",
       "      <td>7.0</td>\n",
       "      <td>110.6</td>\n",
       "    </tr>\n",
       "    <tr>\n",
       "      <th>9</th>\n",
       "      <td>8.0</td>\n",
       "      <td>112.1</td>\n",
       "    </tr>\n",
       "  </tbody>\n",
       "</table>\n",
       "</div>"
      ],
      "text/plain": [
       "   year  proof\n",
       "0   0.0  104.6\n",
       "1   0.5  104.1\n",
       "2   1.0  104.4\n",
       "3   2.0  105.0\n",
       "4   3.0  106.0\n",
       "5   4.0  106.8\n",
       "6   5.0  107.7\n",
       "7   6.0  108.7\n",
       "8   7.0  110.6\n",
       "9   8.0  112.1"
      ]
     },
     "execution_count": 2,
     "metadata": {},
     "output_type": "execute_result"
    }
   ],
   "source": [
    "whisky_data = pd.DataFrame({'year':[0,0.5,1,2,3,4,5,6,7,8], # x-value\n",
    "                           'proof': [104.6, 104.1, 104.4, 105, 106, 106.8, 107.7, 108.7, 110.6, 112.1] }) # y-value\n",
    "whisky_data"
   ]
  },
  {
   "cell_type": "code",
   "execution_count": 3,
   "metadata": {},
   "outputs": [],
   "source": [
    "def fit (x, y):\n",
    "        n = len(x)\n",
    "        sum_x = sum(x)\n",
    "        sum_y = sum(y)\n",
    "        sum_xy = sum(x * y)\n",
    "        sum_xsquare = sum(x**2)\n",
    "        slope = (n * sum_xy - sum_x*sum_y) / ( n * sum_xsquare - sum_x**2)\n",
    "        intercept = (sum_y/n) - slope * (sum_x/n)\n",
    "        return slope, intercept"
   ]
  },
  {
   "cell_type": "code",
   "execution_count": 4,
   "metadata": {},
   "outputs": [
    {
     "data": {
      "text/plain": [
       "(0.9552974304822246, 103.51316437873989)"
      ]
     },
     "execution_count": 4,
     "metadata": {},
     "output_type": "execute_result"
    }
   ],
   "source": [
    "x = whisky_data.year\n",
    "y = whisky_data.proof\n",
    "fit(x,y)"
   ]
  },
  {
   "cell_type": "code",
   "execution_count": 5,
   "metadata": {},
   "outputs": [],
   "source": [
    "def predict(x, y):\n",
    "    y_pred = []\n",
    "    slope, intercept = fit(x,y)\n",
    "    for i in range(len(x)):\n",
    "        pred =  intercept + slope * x\n",
    "    y_pred.append(pred)\n",
    "    return np.reshape(y_pred,(-1,1))\n"
   ]
  },
  {
   "cell_type": "code",
   "execution_count": 6,
   "metadata": {},
   "outputs": [],
   "source": [
    "y_pred = predict(x,y)"
   ]
  },
  {
   "cell_type": "code",
   "execution_count": 7,
   "metadata": {},
   "outputs": [
    {
     "data": {
      "image/png": "[encoded data removed]",
      "text/plain": [
       "<Figure size 432x288 with 1 Axes>"
      ]
     },
     "metadata": {
      "needs_background": "light"
     },
     "output_type": "display_data"
    }
   ],
   "source": [
    "plt.scatter(x,y, color='black')\n",
    "plt.plot(x, y_pred, color = 'blue', linewidth = 3)\n",
    "plt.xlabel('year')\n",
    "plt.ylabel('prof')\n",
    "plt.style.use('default')"
   ]
  },
  {
   "cell_type": "markdown",
   "metadata": {},
   "source": [
    "# 11.2.8\n",
    "- Simple linear model and residual plot"
   ]
  },
  {
   "cell_type": "code",
   "execution_count": 8,
   "metadata": {},
   "outputs": [
    {
     "data": {
      "text/html": [
       "<div>\n",
       "<style scoped>\n",
       "    .dataframe tbody tr th:only-of-type {\n",
       "        vertical-align: middle;\n",
       "    }\n",
       "\n",
       "    .dataframe tbody tr th {\n",
       "        vertical-align: top;\n",
       "    }\n",
       "\n",
       "    .dataframe thead th {\n",
       "        text-align: right;\n",
       "    }\n",
       "</style>\n",
       "<table border=\"1\" class=\"dataframe\">\n",
       "  <thead>\n",
       "    <tr style=\"text-align: right;\">\n",
       "      <th></th>\n",
       "      <th>plant</th>\n",
       "      <th>bird</th>\n",
       "    </tr>\n",
       "  </thead>\n",
       "  <tbody>\n",
       "    <tr>\n",
       "      <th>0</th>\n",
       "      <td>0.90</td>\n",
       "      <td>1.80</td>\n",
       "    </tr>\n",
       "    <tr>\n",
       "      <th>1</th>\n",
       "      <td>0.76</td>\n",
       "      <td>1.36</td>\n",
       "    </tr>\n",
       "    <tr>\n",
       "      <th>2</th>\n",
       "      <td>1.67</td>\n",
       "      <td>2.92</td>\n",
       "    </tr>\n",
       "    <tr>\n",
       "      <th>3</th>\n",
       "      <td>1.44</td>\n",
       "      <td>2.61</td>\n",
       "    </tr>\n",
       "    <tr>\n",
       "      <th>4</th>\n",
       "      <td>0.20</td>\n",
       "      <td>0.42</td>\n",
       "    </tr>\n",
       "    <tr>\n",
       "      <th>5</th>\n",
       "      <td>0.16</td>\n",
       "      <td>0.49</td>\n",
       "    </tr>\n",
       "    <tr>\n",
       "      <th>6</th>\n",
       "      <td>1.12</td>\n",
       "      <td>1.90</td>\n",
       "    </tr>\n",
       "    <tr>\n",
       "      <th>7</th>\n",
       "      <td>1.04</td>\n",
       "      <td>2.38</td>\n",
       "    </tr>\n",
       "    <tr>\n",
       "      <th>8</th>\n",
       "      <td>0.48</td>\n",
       "      <td>1.24</td>\n",
       "    </tr>\n",
       "    <tr>\n",
       "      <th>9</th>\n",
       "      <td>1.33</td>\n",
       "      <td>2.80</td>\n",
       "    </tr>\n",
       "    <tr>\n",
       "      <th>10</th>\n",
       "      <td>1.10</td>\n",
       "      <td>2.41</td>\n",
       "    </tr>\n",
       "    <tr>\n",
       "      <th>11</th>\n",
       "      <td>1.56</td>\n",
       "      <td>2.80</td>\n",
       "    </tr>\n",
       "    <tr>\n",
       "      <th>12</th>\n",
       "      <td>1.15</td>\n",
       "      <td>2.16</td>\n",
       "    </tr>\n",
       "  </tbody>\n",
       "</table>\n",
       "</div>"
      ],
      "text/plain": [
       "    plant  bird\n",
       "0    0.90  1.80\n",
       "1    0.76  1.36\n",
       "2    1.67  2.92\n",
       "3    1.44  2.61\n",
       "4    0.20  0.42\n",
       "5    0.16  0.49\n",
       "6    1.12  1.90\n",
       "7    1.04  2.38\n",
       "8    0.48  1.24\n",
       "9    1.33  2.80\n",
       "10   1.10  2.41\n",
       "11   1.56  2.80\n",
       "12   1.15  2.16"
      ]
     },
     "execution_count": 8,
     "metadata": {},
     "output_type": "execute_result"
    }
   ],
   "source": [
    "bird_data = pd.DataFrame(({'plant': [0.9, 0.76, 1.67, 1.44, 0.2, 0.16, 1.12, 1.04, 0.48, 1.33, 1.10, 1.56, 1.15], # x\n",
    "                          'bird': [1.8, 1.36, 2.92, 2.61, 0.42, 0.49, 1.9, 2.38, 1.24, 2.8, 2.41, 2.8, 2.16]})) # y\n",
    "bird_data"
   ]
  },
  {
   "cell_type": "code",
   "execution_count": 9,
   "metadata": {},
   "outputs": [
    {
     "data": {
      "text/plain": [
       "(1.7026010749789562, 0.2545707786170519)"
      ]
     },
     "execution_count": 9,
     "metadata": {},
     "output_type": "execute_result"
    }
   ],
   "source": [
    "x = bird_data.plant\n",
    "y = bird_data.bird\n",
    "fit(x,y)"
   ]
  },
  {
   "cell_type": "code",
   "execution_count": 10,
   "metadata": {},
   "outputs": [],
   "source": [
    "y_pred = predict(x,y)"
   ]
  },
  {
   "cell_type": "code",
   "execution_count": 11,
   "metadata": {},
   "outputs": [
    {
     "data": {
      "image/png": "[encoded data removed]",
      "text/plain": [
       "<Figure size 640x480 with 1 Axes>"
      ]
     },
     "metadata": {},
     "output_type": "display_data"
    }
   ],
   "source": [
    "plt.scatter(x,y, color='black')\n",
    "plt.plot(x, y_pred, color = 'blue', linewidth = 3)\n",
    "plt.title('Least Square line')\n",
    "plt.xlabel('plant cover diversity')\n",
    "plt.ylabel('bird species diversity')\n",
    "plt.style.use('default')"
   ]
  },
  {
   "cell_type": "code",
   "execution_count": 12,
   "metadata": {},
   "outputs": [
    {
     "data": {
      "image/png": "[encoded data removed]",
      "text/plain": [
       "<Figure size 640x480 with 1 Axes>"
      ]
     },
     "metadata": {},
     "output_type": "display_data"
    }
   ],
   "source": [
    "residual = y - y_pred.flatten()\n",
    "plt.scatter(x, residual, color = 'black')\n",
    "plt.title('Residual plot')\n",
    "plt.xlabel('plant cover diversity')\n",
    "plt.ylabel('residual')\n",
    "plt.style.use('default')"
   ]
  },
  {
   "cell_type": "markdown",
   "metadata": {},
   "source": [
    "From the plot above, there residual plot has no obvious pattern. We conclude that fitting this data to a straight line is approporiate"
   ]
  },
  {
   "cell_type": "markdown",
   "metadata": {},
   "source": [
    "# 11.2.22\n",
    " Fit data with a model of the form $y=ae^{bx}$"
   ]
  },
  {
   "cell_type": "code",
   "execution_count": 13,
   "metadata": {},
   "outputs": [],
   "source": [
    "car_data = pd.DataFrame({'age':np.arange(1,11), # x value, age in year\n",
    "                            'price': [14680, 12150, 11215, 10180, 9230, 8455, 7730, 6825, 6135, 5620]})"
   ]
  },
  {
   "cell_type": "code",
   "execution_count": 14,
   "metadata": {},
   "outputs": [],
   "source": [
    "x = car_data.age\n",
    "y = car_data.price"
   ]
  },
  {
   "cell_type": "code",
   "execution_count": 15,
   "metadata": {},
   "outputs": [],
   "source": [
    "def fit (x, y):\n",
    "        n = len(x)\n",
    "        sum_x = sum(x)\n",
    "        ln_y = np.log(y)\n",
    "        sum_xy = sum(x*ln_y)\n",
    "        sum_xsquare = sum(x**2)\n",
    "        b = (n * sum_xy- sum_x*sum(ln_y)) / ( n * sum_xsquare - sum_x**2)\n",
    "        ln_a = (sum(ln_y) - b * sum_x)/n\n",
    "        return b, np.exp(ln_a)"
   ]
  },
  {
   "cell_type": "code",
   "execution_count": 16,
   "metadata": {},
   "outputs": [
    {
     "data": {
      "text/plain": [
       "(-0.10194891830989064, 15474.512034532483)"
      ]
     },
     "execution_count": 16,
     "metadata": {},
     "output_type": "execute_result"
    }
   ],
   "source": [
    "fit(x,y)"
   ]
  },
  {
   "cell_type": "code",
   "execution_count": 17,
   "metadata": {},
   "outputs": [],
   "source": [
    "def predict(x, y):\n",
    "    y_pred = []\n",
    "    b, a = fit(x,y)\n",
    "    for i in range(len(x)):\n",
    "        pred =  a * np.exp(b*x)\n",
    "    y_pred.append(pred)\n",
    "    return np.reshape(y_pred,(-1,1))\n"
   ]
  },
  {
   "cell_type": "code",
   "execution_count": 18,
   "metadata": {},
   "outputs": [
    {
     "name": "stdout",
     "output_type": "stream",
     "text": [
      "0    14680\n",
      "1    12150\n",
      "2    11215\n",
      "3    10180\n",
      "4     9230\n",
      "5     8455\n",
      "6     7730\n",
      "7     6825\n",
      "8     6135\n",
      "9     5620\n",
      "Name: price, dtype: int64\n"
     ]
    }
   ],
   "source": [
    "y_pred = predict(x,y)\n",
    "print(y)"
   ]
  },
  {
   "cell_type": "code",
   "execution_count": 19,
   "metadata": {},
   "outputs": [
    {
     "name": "stdout",
     "output_type": "stream",
     "text": [
      "[[13974.65549563]\n",
      " [12620.17153017]\n",
      " [11396.97000049]\n",
      " [10292.32644593]\n",
      " [ 9294.7497155 ]\n",
      " [ 8393.86243019]\n",
      " [ 7580.29303139]\n",
      " [ 6845.57829244]\n",
      " [ 6182.07527912]\n",
      " [ 5582.88184344]]\n"
     ]
    }
   ],
   "source": [
    "print(y_pred)"
   ]
  },
  {
   "cell_type": "code",
   "execution_count": 20,
   "metadata": {},
   "outputs": [
    {
     "data": {
      "image/png": "[encoded data removed]",
      "text/plain": [
       "<Figure size 640x480 with 1 Axes>"
      ]
     },
     "metadata": {},
     "output_type": "display_data"
    }
   ],
   "source": [
    "plt.scatter(x,y, color='black')\n",
    "plt.plot(x, y_pred, color = 'blue', linewidth = 3)\n",
    "plt.title('Least Square Exponential Curve')\n",
    "plt.xlabel('Age (in years)')\n",
    "plt.ylabel('Suggested retail price')\n",
    "plt.style.use('default')"
   ]
  },
  {
   "cell_type": "code",
   "execution_count": 21,
   "metadata": {},
   "outputs": [
    {
     "name": "stdout",
     "output_type": "stream",
     "text": [
      "Predict the price for the 11 years Toyota to be 5041.764823396754\n"
     ]
    }
   ],
   "source": [
    "# Predict the price for the 11 years Toyota to be\n",
    "b, a = fit(x,y)\n",
    "price = a * np.exp(b*11)\n",
    "print(\"Predict the price for the 11 years Toyota to be\", price)"
   ]
  },
  {
   "cell_type": "code",
   "execution_count": 22,
   "metadata": {},
   "outputs": [
    {
     "data": {
      "text/plain": [
       "15474.512034532483"
      ]
     },
     "execution_count": 22,
     "metadata": {},
     "output_type": "execute_result"
    }
   ],
   "source": [
    "a * np.exp(b*0)"
   ]
  },
  {
   "cell_type": "markdown",
   "metadata": {},
   "source": [
    "# 11.2.26"
   ]
  },
  {
   "cell_type": "code",
   "execution_count": 23,
   "metadata": {},
   "outputs": [],
   "source": [
    "animal_data = pd.DataFrame({'locomotion':[360, 165, 21, 23, 11, 18, 18, 150, 45, 45, 18],\n",
    "                               'play': [90, 105, 21, 26, 14, 28, 21, 105, 68, 75, 46]})"
   ]
  },
  {
   "cell_type": "code",
   "execution_count": 24,
   "metadata": {},
   "outputs": [
    {
     "data": {
      "text/html": [
       "<div>\n",
       "<style scoped>\n",
       "    .dataframe tbody tr th:only-of-type {\n",
       "        vertical-align: middle;\n",
       "    }\n",
       "\n",
       "    .dataframe tbody tr th {\n",
       "        vertical-align: top;\n",
       "    }\n",
       "\n",
       "    .dataframe thead th {\n",
       "        text-align: right;\n",
       "    }\n",
       "</style>\n",
       "<table border=\"1\" class=\"dataframe\">\n",
       "  <thead>\n",
       "    <tr style=\"text-align: right;\">\n",
       "      <th></th>\n",
       "      <th>locomotion</th>\n",
       "      <th>play</th>\n",
       "    </tr>\n",
       "  </thead>\n",
       "  <tbody>\n",
       "    <tr>\n",
       "      <th>0</th>\n",
       "      <td>360</td>\n",
       "      <td>90</td>\n",
       "    </tr>\n",
       "    <tr>\n",
       "      <th>1</th>\n",
       "      <td>165</td>\n",
       "      <td>105</td>\n",
       "    </tr>\n",
       "    <tr>\n",
       "      <th>2</th>\n",
       "      <td>21</td>\n",
       "      <td>21</td>\n",
       "    </tr>\n",
       "    <tr>\n",
       "      <th>3</th>\n",
       "      <td>23</td>\n",
       "      <td>26</td>\n",
       "    </tr>\n",
       "    <tr>\n",
       "      <th>4</th>\n",
       "      <td>11</td>\n",
       "      <td>14</td>\n",
       "    </tr>\n",
       "    <tr>\n",
       "      <th>5</th>\n",
       "      <td>18</td>\n",
       "      <td>28</td>\n",
       "    </tr>\n",
       "    <tr>\n",
       "      <th>6</th>\n",
       "      <td>18</td>\n",
       "      <td>21</td>\n",
       "    </tr>\n",
       "    <tr>\n",
       "      <th>7</th>\n",
       "      <td>150</td>\n",
       "      <td>105</td>\n",
       "    </tr>\n",
       "    <tr>\n",
       "      <th>8</th>\n",
       "      <td>45</td>\n",
       "      <td>68</td>\n",
       "    </tr>\n",
       "    <tr>\n",
       "      <th>9</th>\n",
       "      <td>45</td>\n",
       "      <td>75</td>\n",
       "    </tr>\n",
       "    <tr>\n",
       "      <th>10</th>\n",
       "      <td>18</td>\n",
       "      <td>46</td>\n",
       "    </tr>\n",
       "  </tbody>\n",
       "</table>\n",
       "</div>"
      ],
      "text/plain": [
       "    locomotion  play\n",
       "0          360    90\n",
       "1          165   105\n",
       "2           21    21\n",
       "3           23    26\n",
       "4           11    14\n",
       "5           18    28\n",
       "6           18    21\n",
       "7          150   105\n",
       "8           45    68\n",
       "9           45    75\n",
       "10          18    46"
      ]
     },
     "execution_count": 24,
     "metadata": {},
     "output_type": "execute_result"
    }
   ],
   "source": [
    "animal_data"
   ]
  },
  {
   "cell_type": "code",
   "execution_count": 25,
   "metadata": {},
   "outputs": [],
   "source": [
    "x = animal_data.locomotion\n",
    "y = animal_data.play\n"
   ]
  },
  {
   "cell_type": "code",
   "execution_count": 63,
   "metadata": {},
   "outputs": [],
   "source": [
    "def fit (x, y):\n",
    "        n = len(x)\n",
    "        sum_x = sum(np.log10(x))\n",
    "        sum_y = sum(np.log10(y))\n",
    "        sum_xy = sum(np.log10(x) * np.log10(y))\n",
    "        sum_xsquare = sum(np.log10(x)**2)\n",
    "        b = (n * sum_xy - sum_x * sum_y)/(n* sum_xsquare - sum_x**2)\n",
    "        log_a = (sum_y - b * sum_x)/n\n",
    "        return b, 10**log_a, log_a"
   ]
  },
  {
   "cell_type": "code",
   "execution_count": 64,
   "metadata": {},
   "outputs": [
    {
     "data": {
      "text/plain": [
       "(0.5606186121007873, 5.415575418348566, 0.7336446082811537)"
      ]
     },
     "execution_count": 64,
     "metadata": {},
     "output_type": "execute_result"
    }
   ],
   "source": [
    "fit(x,y)"
   ]
  },
  {
   "cell_type": "code",
   "execution_count": 61,
   "metadata": {},
   "outputs": [],
   "source": [
    "def predict(x, y):\n",
    "    y_pred = []\n",
    "    b, a = fit(x,y)\n",
    "    for i in range(len(x)):\n",
    "        pred =  a * (x**b)\n",
    "            \n",
    "    y_pred.append(pred)\n",
    "    return np.reshape(y_pred,(-1,1))"
   ]
  },
  {
   "cell_type": "code",
   "execution_count": 59,
   "metadata": {},
   "outputs": [
    {
     "data": {
      "text/plain": [
       "array([[146.80990863],\n",
       "       [ 94.79979091],\n",
       "       [ 29.84732085],\n",
       "       [ 31.40903386],\n",
       "       [ 20.77154162],\n",
       "       [ 27.37623611],\n",
       "       [ 27.37623611],\n",
       "       [ 89.8673364 ],\n",
       "       [ 45.75792407],\n",
       "       [ 45.75792407],\n",
       "       [ 27.37623611]])"
      ]
     },
     "execution_count": 59,
     "metadata": {},
     "output_type": "execute_result"
    }
   ],
   "source": [
    "y_pred = predict(x,y)\n",
    "y_pred"
   ]
  },
  {
   "cell_type": "code",
   "execution_count": 60,
   "metadata": {},
   "outputs": [
    {
     "data": {
      "image/png": "[encoded data removed]",
      "text/plain": [
       "<Figure size 640x480 with 1 Axes>"
      ]
     },
     "metadata": {},
     "output_type": "display_data"
    }
   ],
   "source": [
    "plt.scatter(x,y, color='black')\n",
    "plt.plot(x, y_pred, color = 'blue', linewidth = 3)\n",
    "plt.title('Logarithm Curve')\n",
    "plt.xlabel('Locomotion Begins (days)')\n",
    "plt.ylabel('Play Begins (days)')\n",
    "plt.style.use('default')"
   ]
  },
  {
   "cell_type": "code",
   "execution_count": null,
   "metadata": {},
   "outputs": [],
   "source": []
  }
 ],
 "metadata": {
  "kernelspec": {
   "display_name": "Python 3",
   "language": "python",
   "name": "python3"
  },
  "language_info": {
   "codemirror_mode": {
    "name": "ipython",
    "version": 3
   },
   "file_extension": ".py",
   "mimetype": "text/x-python",
   "name": "python",
   "nbconvert_exporter": "python",
   "pygments_lexer": "ipython3",
   "version": "3.8.0"
  }
 },
 "nbformat": 4,
 "nbformat_minor": 4
}
