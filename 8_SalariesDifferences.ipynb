{
 "cells": [
  {
   "cell_type": "markdown",
   "metadata": {},
   "source": []
  },
  {
   "cell_type": "markdown",
   "metadata": {},
   "source": [
    "# Stratascratch\n",
    "#### Dropbox Interview Questions\n",
    "\n",
    "\n",
    "Write a query that calculates the difference between the highest salaries \n",
    "found in the marketing and engineering departments. \n",
    "Output just the absolute difference in salaries.\n",
    "\n",
    "Tables: db_employee, db_dept\n",
    "\n",
    "db_employee\n",
    "|id|              int|\n",
    "| --- | --- |\n",
    "|first_name|      varchar|\n",
    "|last_name|       varchar|\n",
    "|salary|          int|\n",
    "|department_id|   int|\n",
    "\n",
    "db_dept\n",
    "|id |             int|\n",
    "| --- | --- | \n",
    "|department|      varchar|"
   ]
  },
  {
   "cell_type": "code",
   "execution_count": null,
   "metadata": {},
   "outputs": [],
   "source": [
    "import pandas as pd\n",
    "\n",
    "\n",
    "db_employee.head()\n",
    "engineer_max = db_employee[db_employee['department_id'] == 1]['salary'].max()\n",
    "marketing_max = db_employee[db_employee['department_id'] == 4]['salary'].max()\n",
    "\n",
    "abs(engineer_max - marketing_max)\n"
   ]
  }
 ],
 "metadata": {
  "kernelspec": {
   "display_name": "Python 3",
   "language": "python",
   "name": "python3"
  },
  "language_info": {
   "codemirror_mode": {
    "name": "ipython",
    "version": 3
   },
   "file_extension": ".py",
   "mimetype": "text/x-python",
   "name": "python",
   "nbconvert_exporter": "python",
   "pygments_lexer": "ipython3",
   "version": "3.8.0"
  }
 },
 "nbformat": 4,
 "nbformat_minor": 4
}
